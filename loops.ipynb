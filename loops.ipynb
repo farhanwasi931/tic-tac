{
 "cells": [
  {
   "cell_type": "code",
   "execution_count": null,
   "id": "5688f1ce-6193-4a26-84f2-6085a79aa627",
   "metadata": {},
   "outputs": [],
   "source": [
    "#Question 1"
   ]
  },
  {
   "cell_type": "code",
   "execution_count": null,
   "id": "4b4043da-f1ea-4175-8078-2cbf50d35588",
   "metadata": {},
   "outputs": [],
   "source": [
    "\n",
    "x = 1\n",
    "while x <= 5:\n",
    "  print(x)\n",
    "  x += 1\n"
   ]
  },
  {
   "cell_type": "code",
   "execution_count": null,
   "id": "a1ed4e67-451e-4fe6-a1f9-d9bbf05bdc66",
   "metadata": {},
   "outputs": [],
   "source": [
    "#Question 2"
   ]
  },
  {
   "cell_type": "code",
   "execution_count": null,
   "id": "8369c241-64ea-4b0a-853b-31b5e29d7202",
   "metadata": {},
   "outputs": [],
   "source": [
    "t=0\n",
    "x=1\n",
    "while x<=10:\n",
    "  t+=x\n",
    "  x+=1\n",
    "print(t)\n",
    "     "
   ]
  },
  {
   "cell_type": "code",
   "execution_count": null,
   "id": "a4d171f9-bd68-4148-9374-17e494c8a8e5",
   "metadata": {},
   "outputs": [],
   "source": [
    "#Question 3"
   ]
  },
  {
   "cell_type": "code",
   "execution_count": null,
   "id": "d0ac817f-7781-4724-aec5-7a902c096863",
   "metadata": {},
   "outputs": [],
   "source": [
    "num = int(input(\"Enter the number of factorial of u want\"))\n",
    "fact=1\n",
    "for i in range (1,num+1):\n",
    "  fact*=i\n",
    "print(fact)"
   ]
  },
  {
   "cell_type": "code",
   "execution_count": null,
   "id": "24fb1d9a-9317-4e18-88f4-a37ee3f3c2f8",
   "metadata": {},
   "outputs": [],
   "source": [
    "#Question 4"
   ]
  },
  {
   "cell_type": "code",
   "execution_count": 1,
   "id": "781f9ef7-adc2-417c-9eee-8f210431eea4",
   "metadata": {},
   "outputs": [
    {
     "name": "stdout",
     "output_type": "stream",
     "text": [
      "2\n"
     ]
    }
   ],
   "source": [
    "str1=\"hlew world\"\n",
    "count=0\n",
    "for i in str1:\n",
    "  if(i in \"aeoiu\"):\n",
    "    count+=1\n",
    "print(count)"
   ]
  },
  {
   "cell_type": "code",
   "execution_count": 2,
   "id": "f0246f09-766a-47e1-babb-8678bf41d781",
   "metadata": {},
   "outputs": [],
   "source": [
    "#Question 5"
   ]
  },
  {
   "cell_type": "code",
   "execution_count": 3,
   "id": "45233f80-026e-4b31-b791-c2954519a99f",
   "metadata": {},
   "outputs": [
    {
     "name": "stdout",
     "output_type": "stream",
     "text": [
      "\t\n",
      "*\t\n",
      "**\t\n",
      "***\t\n",
      "****\t\n",
      "*****\t\n"
     ]
    }
   ],
   "source": [
    "for i in range(0,6):\n",
    "  for j in range(0,i):\n",
    "    print(\"*\", end=\"\")\n",
    "  print(\"\\t\")\n",
    "     "
   ]
  },
  {
   "cell_type": "code",
   "execution_count": 4,
   "id": "42f770a7-c872-4b6d-8275-af94a95c37f7",
   "metadata": {},
   "outputs": [],
   "source": [
    "#Question 6"
   ]
  },
  {
   "cell_type": "code",
   "execution_count": 5,
   "id": "f0b124e3-9b5f-4ff2-9133-a74af1a101e9",
   "metadata": {},
   "outputs": [
    {
     "name": "stdout",
     "output_type": "stream",
     "text": [
      "6 X 1 = 6\n",
      "6 X 2 = 12\n",
      "6 X 3 = 18\n",
      "6 X 4 = 24\n",
      "6 X 5 = 30\n",
      "6 X 6 = 36\n",
      "6 X 7 = 42\n",
      "6 X 8 = 48\n",
      "6 X 9 = 54\n",
      "6 X 10 = 60\n"
     ]
    }
   ],
   "source": [
    "num =6\n",
    "for i in range (1,11):\n",
    "  print(f\"{num} X {i} =\", i*num)\n",
    "     \n"
   ]
  },
  {
   "cell_type": "code",
   "execution_count": null,
   "id": "836a0a7e-82aa-4c11-b36b-7abb4cd3e39d",
   "metadata": {},
   "outputs": [],
   "source": []
  }
 ],
 "metadata": {
  "kernelspec": {
   "display_name": "Python 3 (ipykernel)",
   "language": "python",
   "name": "python3"
  },
  "language_info": {
   "codemirror_mode": {
    "name": "ipython",
    "version": 3
   },
   "file_extension": ".py",
   "mimetype": "text/x-python",
   "name": "python",
   "nbconvert_exporter": "python",
   "pygments_lexer": "ipython3",
   "version": "3.12.4"
  }
 },
 "nbformat": 4,
 "nbformat_minor": 5
}
